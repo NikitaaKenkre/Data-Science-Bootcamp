{
 "cells": [
  {
   "cell_type": "markdown",
   "id": "92fb0df7",
   "metadata": {},
   "source": [
    "### Take Home Assignment for Week 1 of the Data Science Bootcamp Fall'23"
   ]
  },
  {
   "cell_type": "markdown",
   "id": "f1c3518f",
   "metadata": {},
   "source": [
    "#### 1. Display Fibonacci Series upto 10 terms\n",
    "###### 0,1,1,2,3,5,8 ....."
   ]
  },
  {
   "cell_type": "code",
   "execution_count": 1,
   "id": "027175b2",
   "metadata": {},
   "outputs": [
    {
     "name": "stdout",
     "output_type": "stream",
     "text": [
      "0 1 1 2 3 5 8 13 21 34 "
     ]
    }
   ],
   "source": [
    "# Setting the first two numbers in the sequence\n",
    "n = 0\n",
    "r = 1\n",
    "\n",
    "# First 10 numbers in the Fibonacci sequence\n",
    "for a in range(10):\n",
    "    print(n, end = ' ')\n",
    "    n, r = r, n + r"
   ]
  },
  {
   "cell_type": "markdown",
   "id": "64693632",
   "metadata": {},
   "source": [
    "#### Display numbers at the odd indices of a list"
   ]
  },
  {
   "cell_type": "code",
   "execution_count": 2,
   "id": "38f95182",
   "metadata": {},
   "outputs": [
    {
     "name": "stdout",
     "output_type": "stream",
     "text": [
      "1 3 5 7 9 "
     ]
    }
   ],
   "source": [
    "numbers = [0,1,2,3,4,5,6,7,8,9,10]\n",
    "\n",
    "# Numbers at odd indices\n",
    "for i in range(1, len(numbers), 2):\n",
    "    print(numbers[i], end = ' ')\n"
   ]
  },
  {
   "cell_type": "markdown",
   "id": "b8bb1fe6",
   "metadata": {},
   "source": [
    "#### Print a list in reverse order"
   ]
  },
  {
   "cell_type": "code",
   "execution_count": 3,
   "id": "de2109a3",
   "metadata": {},
   "outputs": [
    {
     "name": "stdout",
     "output_type": "stream",
     "text": [
      "[10, 9, 8, 7, 6, 5, 4, 3, 2, 1, 0]\n"
     ]
    }
   ],
   "source": [
    "numbers.reverse()\n",
    "\n",
    "print(numbers)\n",
    "    "
   ]
  },
  {
   "cell_type": "markdown",
   "id": "23f6822b",
   "metadata": {},
   "source": [
    "#### Your task is to count the number of different words in this text\n",
    "\t\n",
    "\tstring = \"\"\"\n",
    "\tChatGPT has created this text to provide tips on creating interesting paragraphs. \n",
    "\tFirst, start with a clear topic sentence that introduces the main idea. \n",
    "\tThen, support the topic sentence with specific details, examples, and evidence.\n",
    "\tVary the sentence length and structure to keep the reader engaged.\n",
    "\tFinally, end with a strong concluding sentence that summarizes the main points.\n",
    "\tRemember, practice makes perfect!\n",
    "\t\"\"\""
   ]
  },
  {
   "cell_type": "code",
   "execution_count": 4,
   "id": "dcc7d1a6",
   "metadata": {},
   "outputs": [
    {
     "name": "stdout",
     "output_type": "stream",
     "text": [
      "Number of different words: 47\n"
     ]
    }
   ],
   "source": [
    "# Sample text\n",
    "text = \"\"\"\n",
    "\tChatGPT has created this text to provide tips on creating interesting paragraphs. \n",
    "\tFirst, start with a clear topic sentence that introduces the main idea. \n",
    "\tThen, support the topic sentence with specific details, examples, and evidence.\n",
    "\tVary the sentence length and structure to keep the reader engaged.\n",
    "\tFinally, end with a strong concluding sentence that summarizes the main points.\n",
    "\tRemember, practice makes perfect!\n",
    "\t\"\"\"\n",
    "\n",
    "# Preprocess the text\n",
    "text = text.lower()  # Convert to lowercase\n",
    "words = text.split()\n",
    "\n",
    "# Use a set to store unique words\n",
    "unique_words = set(words)\n",
    "\n",
    "# Print the result\n",
    "print(\"Number of different words:\", len(unique_words))\n"
   ]
  },
  {
   "cell_type": "markdown",
   "id": "c0381baf",
   "metadata": {},
   "source": [
    "#### Write a function that takes a word as an argument and returns the number of vowels in the word"
   ]
  },
  {
   "cell_type": "code",
   "execution_count": 5,
   "id": "9a98b736",
   "metadata": {},
   "outputs": [
    {
     "name": "stdout",
     "output_type": "stream",
     "text": [
      "20\n"
     ]
    }
   ],
   "source": [
    "    \n",
    "def count_vowels(word):               \n",
    "\n",
    "    # Define a set of vowels\n",
    "    vowels = set('AEIOUaeiou')       \n",
    "\n",
    "    # Setting inital count to 0\n",
    "    vowel_count = 0                 \n",
    "\n",
    "    # Running loops to check if the characters in the word exist in the set vowels\n",
    "    for char in word:\n",
    "        if char in vowels:\n",
    "            vowel_count +=1\n",
    "\n",
    "    return vowel_count          \n",
    "\n",
    "# Input word\n",
    "word = 'pneumonoultramicroscopicsilicovolcanoconiosis'\n",
    "\n",
    "# Calling defined function\n",
    "number_vowels = count_vowels(word)\n",
    "print(number_vowels)"
   ]
  },
  {
   "cell_type": "markdown",
   "id": "3627d096",
   "metadata": {},
   "source": [
    "#### Iterate through the following list of animals and print each one in all caps.\n",
    "\n",
    "  animals=['tiger', 'elephant', 'monkey', 'zebra', 'panther']"
   ]
  },
  {
   "cell_type": "code",
   "execution_count": 6,
   "id": "4227a6c2",
   "metadata": {},
   "outputs": [
    {
     "name": "stdout",
     "output_type": "stream",
     "text": [
      "TIGER ELEPHANT MONKEY ZEBRA PANTHER "
     ]
    }
   ],
   "source": [
    "animals=['tiger', 'elephant', 'monkey', 'zebra', 'panther']\n",
    "\n",
    "for a in animals:\n",
    "    print(a.upper(), end = ' ')"
   ]
  },
  {
   "cell_type": "markdown",
   "id": "21313c42",
   "metadata": {},
   "source": [
    "#### Iterate from 1 to 15, printing whether the number is odd or even"
   ]
  },
  {
   "cell_type": "code",
   "execution_count": 7,
   "id": "054bd3a0",
   "metadata": {},
   "outputs": [
    {
     "name": "stdout",
     "output_type": "stream",
     "text": [
      "1 is an odd number\n",
      "2 is an even number\n",
      "3 is an odd number\n",
      "4 is an even number\n",
      "5 is an odd number\n",
      "6 is an even number\n",
      "7 is an odd number\n",
      "8 is an even number\n",
      "9 is an odd number\n",
      "10 is an even number\n",
      "11 is an odd number\n",
      "12 is an even number\n",
      "13 is an odd number\n",
      "14 is an even number\n",
      "15 is an odd number\n"
     ]
    }
   ],
   "source": [
    "for i in range(1,16):\n",
    "    if i%2 == 1:        # Checking whether remainder is 1 on dividing by 2\n",
    "        print(i, 'is an odd number')       \n",
    "    else:\n",
    "        print(i, 'is an even number')"
   ]
  },
  {
   "cell_type": "markdown",
   "id": "adbdfa3e",
   "metadata": {},
   "source": [
    "#### Take two integers as input from user and return the sum"
   ]
  },
  {
   "cell_type": "code",
   "execution_count": 8,
   "id": "6d9eabd6",
   "metadata": {},
   "outputs": [
    {
     "name": "stdout",
     "output_type": "stream",
     "text": [
      "Sum of the two numbers is 40\n"
     ]
    }
   ],
   "source": [
    "def sum(n1, n2):\n",
    "    sum_of_nums = n1 + n2\n",
    "    return sum_of_nums\n",
    "\n",
    "\n",
    "# Enter number 1\n",
    "n1 = 23\n",
    "\n",
    "# Enter number 2\n",
    "n2 = 17\n",
    "\n",
    "addition = sum(n1, n2)\n",
    "\n",
    "print('Sum of the two numbers is', addition)\n",
    "\n",
    "    "
   ]
  },
  {
   "cell_type": "markdown",
   "id": "1ac836d7",
   "metadata": {},
   "source": [
    "### Additional Challenge - Movie data"
   ]
  },
  {
   "cell_type": "code",
   "execution_count": 9,
   "id": "530756c1",
   "metadata": {},
   "outputs": [
    {
     "data": {
      "text/plain": [
       "[{'name': 'Usual Suspects', 'imdb': 7.0, 'category': 'Thriller'},\n",
       " {'name': 'Hitman', 'imdb': 6.3, 'category': 'Action'},\n",
       " {'name': 'Dark Knight', 'imdb': 9.0, 'category': 'Adventure'},\n",
       " {'name': 'The Help', 'imdb': 8.0, 'category': 'Drama'},\n",
       " {'name': 'The Choice', 'imdb': 6.2, 'category': 'Romance'},\n",
       " {'name': 'Colonia', 'imdb': 7.4, 'category': 'Romance'},\n",
       " {'name': 'Love', 'imdb': 6.0, 'category': 'Romance'},\n",
       " {'name': 'Bride Wars', 'imdb': 5.4, 'category': 'Romance'},\n",
       " {'name': 'AlphaJet', 'imdb': 3.2, 'category': 'War'},\n",
       " {'name': 'Ringing Crime', 'imdb': 4.0, 'category': 'Crime'},\n",
       " {'name': 'Joking muck', 'imdb': 7.2, 'category': 'Comedy'},\n",
       " {'name': 'What is the name', 'imdb': 9.2, 'category': 'Suspense'},\n",
       " {'name': 'Detective', 'imdb': 7.0, 'category': 'Suspense'},\n",
       " {'name': 'Exam', 'imdb': 4.2, 'category': 'Thriller'},\n",
       " {'name': 'We Two', 'imdb': 7.2, 'category': 'Romance'}]"
      ]
     },
     "execution_count": 9,
     "metadata": {},
     "output_type": "execute_result"
    }
   ],
   "source": [
    "# List of movies dictionaries:\n",
    "\n",
    "movies = [\n",
    "{\n",
    "\"name\": \"Usual Suspects\", \n",
    "\"imdb\": 7.0,\n",
    "\"category\": \"Thriller\"\n",
    "},\n",
    "{\n",
    "\"name\": \"Hitman\",\n",
    "\"imdb\": 6.3,\n",
    "\"category\": \"Action\"\n",
    "},\n",
    "{\n",
    "\"name\": \"Dark Knight\",\n",
    "\"imdb\": 9.0,\n",
    "\"category\": \"Adventure\"\n",
    "},\n",
    "{\n",
    "\"name\": \"The Help\",\n",
    "\"imdb\": 8.0,\n",
    "\"category\": \"Drama\"\n",
    "},\n",
    "{\n",
    "\"name\": \"The Choice\",\n",
    "\"imdb\": 6.2,\n",
    "\"category\": \"Romance\"\n",
    "},\n",
    "{\n",
    "\"name\": \"Colonia\",\n",
    "\"imdb\": 7.4,\n",
    "\"category\": \"Romance\"\n",
    "},\n",
    "{\n",
    "\"name\": \"Love\",\n",
    "\"imdb\": 6.0,\n",
    "\"category\": \"Romance\"\n",
    "},\n",
    "{\n",
    "\"name\": \"Bride Wars\",\n",
    "\"imdb\": 5.4,\n",
    "\"category\": \"Romance\"\n",
    "},\n",
    "{\n",
    "\"name\": \"AlphaJet\",\n",
    "\"imdb\": 3.2,\n",
    "\"category\": \"War\"\n",
    "},\n",
    "{\n",
    "\"name\": \"Ringing Crime\",\n",
    "\"imdb\": 4.0,\n",
    "\"category\": \"Crime\"\n",
    "},\n",
    "{\n",
    "\"name\": \"Joking muck\",\n",
    "\"imdb\": 7.2,\n",
    "\"category\": \"Comedy\"\n",
    "},\n",
    "{\n",
    "\"name\": \"What is the name\",\n",
    "\"imdb\": 9.2,\n",
    "\"category\": \"Suspense\"\n",
    "},\n",
    "{\n",
    "\"name\": \"Detective\",\n",
    "\"imdb\": 7.0,\n",
    "\"category\": \"Suspense\"\n",
    "},\n",
    "{\n",
    "\"name\": \"Exam\",\n",
    "\"imdb\": 4.2,\n",
    "\"category\": \"Thriller\"\n",
    "},\n",
    "{\n",
    "\"name\": \"We Two\",\n",
    "\"imdb\": 7.2,\n",
    "\"category\": \"Romance\"\n",
    "}\n",
    "]\n",
    "\n",
    "movies"
   ]
  },
  {
   "cell_type": "code",
   "execution_count": 10,
   "id": "9c8fa1b6",
   "metadata": {},
   "outputs": [],
   "source": [
    "import pandas as pd"
   ]
  },
  {
   "cell_type": "markdown",
   "id": "1edaa288",
   "metadata": {},
   "source": [
    "#### Write a function that takes a movie dictionary from the above list and return true if imdb rating is greater than 5. Additionally, you can also alter the function to return whether the movie has low, medium or high rating"
   ]
  },
  {
   "cell_type": "code",
   "execution_count": 11,
   "id": "e3c5fb7a",
   "metadata": {},
   "outputs": [
    {
     "name": "stdout",
     "output_type": "stream",
     "text": [
      "Movie: Usual Suspects\n",
      "IMDb Rating: 7.0\n",
      "IMDb Rating > 5? True\n",
      "Rating Category: High Rating\n",
      "\n",
      "Movie: Hitman\n",
      "IMDb Rating: 6.3\n",
      "IMDb Rating > 5? True\n",
      "Rating Category: Medium Rating\n",
      "\n",
      "Movie: Dark Knight\n",
      "IMDb Rating: 9.0\n",
      "IMDb Rating > 5? True\n",
      "Rating Category: High Rating\n",
      "\n",
      "Movie: The Help\n",
      "IMDb Rating: 8.0\n",
      "IMDb Rating > 5? True\n",
      "Rating Category: High Rating\n",
      "\n",
      "Movie: The Choice\n",
      "IMDb Rating: 6.2\n",
      "IMDb Rating > 5? True\n",
      "Rating Category: Medium Rating\n",
      "\n",
      "Movie: Colonia\n",
      "IMDb Rating: 7.4\n",
      "IMDb Rating > 5? True\n",
      "Rating Category: High Rating\n",
      "\n",
      "Movie: Love\n",
      "IMDb Rating: 6.0\n",
      "IMDb Rating > 5? True\n",
      "Rating Category: Medium Rating\n",
      "\n",
      "Movie: Bride Wars\n",
      "IMDb Rating: 5.4\n",
      "IMDb Rating > 5? True\n",
      "Rating Category: Medium Rating\n",
      "\n",
      "Movie: AlphaJet\n",
      "IMDb Rating: 3.2\n",
      "IMDb Rating > 5? False\n",
      "Rating Category: Low Rating\n",
      "\n",
      "Movie: Ringing Crime\n",
      "IMDb Rating: 4.0\n",
      "IMDb Rating > 5? False\n",
      "Rating Category: Medium Rating\n",
      "\n",
      "Movie: Joking muck\n",
      "IMDb Rating: 7.2\n",
      "IMDb Rating > 5? True\n",
      "Rating Category: High Rating\n",
      "\n",
      "Movie: What is the name\n",
      "IMDb Rating: 9.2\n",
      "IMDb Rating > 5? True\n",
      "Rating Category: High Rating\n",
      "\n",
      "Movie: Detective\n",
      "IMDb Rating: 7.0\n",
      "IMDb Rating > 5? True\n",
      "Rating Category: High Rating\n",
      "\n",
      "Movie: Exam\n",
      "IMDb Rating: 4.2\n",
      "IMDb Rating > 5? False\n",
      "Rating Category: Medium Rating\n",
      "\n",
      "Movie: We Two\n",
      "IMDb Rating: 7.2\n",
      "IMDb Rating > 5? True\n",
      "Rating Category: High Rating\n",
      "\n"
     ]
    }
   ],
   "source": [
    "def categorize_rating(imdb):\n",
    "    if imdb >= 7:\n",
    "        return 'High Rating'\n",
    "    elif imdb >= 4:\n",
    "        return 'Medium Rating'\n",
    "    else:\n",
    "        return 'Low Rating'\n",
    "\n",
    "def check_and_categorize_movies(movies):\n",
    "    for movie in movies:\n",
    "        imdb_rating = movie['imdb']\n",
    "        is_high_rating = imdb_rating > 5\n",
    "        rating_category = categorize_rating(imdb_rating)\n",
    "\n",
    "        print(f\"Movie: {movie['name']}\")\n",
    "        print(f\"IMDb Rating: {imdb_rating}\")\n",
    "        print(f\"IMDb Rating > 5? {is_high_rating}\")\n",
    "        print(f\"Rating Category: {rating_category}\")\n",
    "        print()\n",
    "\n",
    "\n",
    "check_and_categorize_movies(movies)\n"
   ]
  },
  {
   "cell_type": "markdown",
   "id": "db3dd2e9",
   "metadata": {},
   "source": [
    "#### Write a function that accepts the entire list of movies and a category and returns the average score for that category."
   ]
  },
  {
   "cell_type": "code",
   "execution_count": 12,
   "id": "f0bc296a",
   "metadata": {},
   "outputs": [
    {
     "data": {
      "text/html": [
       "<div>\n",
       "<style scoped>\n",
       "    .dataframe tbody tr th:only-of-type {\n",
       "        vertical-align: middle;\n",
       "    }\n",
       "\n",
       "    .dataframe tbody tr th {\n",
       "        vertical-align: top;\n",
       "    }\n",
       "\n",
       "    .dataframe thead th {\n",
       "        text-align: right;\n",
       "    }\n",
       "</style>\n",
       "<table border=\"1\" class=\"dataframe\">\n",
       "  <thead>\n",
       "    <tr style=\"text-align: right;\">\n",
       "      <th></th>\n",
       "      <th>name</th>\n",
       "      <th>imdb</th>\n",
       "      <th>category</th>\n",
       "    </tr>\n",
       "  </thead>\n",
       "  <tbody>\n",
       "    <tr>\n",
       "      <th>1</th>\n",
       "      <td>Hitman</td>\n",
       "      <td>6.3</td>\n",
       "      <td>Action</td>\n",
       "    </tr>\n",
       "    <tr>\n",
       "      <th>2</th>\n",
       "      <td>Dark Knight</td>\n",
       "      <td>9.0</td>\n",
       "      <td>Adventure</td>\n",
       "    </tr>\n",
       "    <tr>\n",
       "      <th>10</th>\n",
       "      <td>Joking muck</td>\n",
       "      <td>7.2</td>\n",
       "      <td>Comedy</td>\n",
       "    </tr>\n",
       "    <tr>\n",
       "      <th>9</th>\n",
       "      <td>Ringing Crime</td>\n",
       "      <td>4.0</td>\n",
       "      <td>Crime</td>\n",
       "    </tr>\n",
       "    <tr>\n",
       "      <th>3</th>\n",
       "      <td>The Help</td>\n",
       "      <td>8.0</td>\n",
       "      <td>Drama</td>\n",
       "    </tr>\n",
       "    <tr>\n",
       "      <th>4</th>\n",
       "      <td>The Choice</td>\n",
       "      <td>6.2</td>\n",
       "      <td>Romance</td>\n",
       "    </tr>\n",
       "    <tr>\n",
       "      <th>5</th>\n",
       "      <td>Colonia</td>\n",
       "      <td>7.4</td>\n",
       "      <td>Romance</td>\n",
       "    </tr>\n",
       "    <tr>\n",
       "      <th>6</th>\n",
       "      <td>Love</td>\n",
       "      <td>6.0</td>\n",
       "      <td>Romance</td>\n",
       "    </tr>\n",
       "    <tr>\n",
       "      <th>7</th>\n",
       "      <td>Bride Wars</td>\n",
       "      <td>5.4</td>\n",
       "      <td>Romance</td>\n",
       "    </tr>\n",
       "    <tr>\n",
       "      <th>14</th>\n",
       "      <td>We Two</td>\n",
       "      <td>7.2</td>\n",
       "      <td>Romance</td>\n",
       "    </tr>\n",
       "    <tr>\n",
       "      <th>11</th>\n",
       "      <td>What is the name</td>\n",
       "      <td>9.2</td>\n",
       "      <td>Suspense</td>\n",
       "    </tr>\n",
       "    <tr>\n",
       "      <th>12</th>\n",
       "      <td>Detective</td>\n",
       "      <td>7.0</td>\n",
       "      <td>Suspense</td>\n",
       "    </tr>\n",
       "    <tr>\n",
       "      <th>0</th>\n",
       "      <td>Usual Suspects</td>\n",
       "      <td>7.0</td>\n",
       "      <td>Thriller</td>\n",
       "    </tr>\n",
       "    <tr>\n",
       "      <th>13</th>\n",
       "      <td>Exam</td>\n",
       "      <td>4.2</td>\n",
       "      <td>Thriller</td>\n",
       "    </tr>\n",
       "    <tr>\n",
       "      <th>8</th>\n",
       "      <td>AlphaJet</td>\n",
       "      <td>3.2</td>\n",
       "      <td>War</td>\n",
       "    </tr>\n",
       "  </tbody>\n",
       "</table>\n",
       "</div>"
      ],
      "text/plain": [
       "                name  imdb   category\n",
       "1             Hitman   6.3     Action\n",
       "2        Dark Knight   9.0  Adventure\n",
       "10       Joking muck   7.2     Comedy\n",
       "9      Ringing Crime   4.0      Crime\n",
       "3           The Help   8.0      Drama\n",
       "4         The Choice   6.2    Romance\n",
       "5            Colonia   7.4    Romance\n",
       "6               Love   6.0    Romance\n",
       "7         Bride Wars   5.4    Romance\n",
       "14            We Two   7.2    Romance\n",
       "11  What is the name   9.2   Suspense\n",
       "12         Detective   7.0   Suspense\n",
       "0     Usual Suspects   7.0   Thriller\n",
       "13              Exam   4.2   Thriller\n",
       "8           AlphaJet   3.2        War"
      ]
     },
     "execution_count": 12,
     "metadata": {},
     "output_type": "execute_result"
    }
   ],
   "source": [
    "df_movies = pd.DataFrame(movies) \n",
    "\n",
    "df_sorted = df_movies.sort_values(by='category')\n",
    "df_sorted\n"
   ]
  },
  {
   "cell_type": "code",
   "execution_count": 13,
   "id": "279c517b",
   "metadata": {},
   "outputs": [
    {
     "data": {
      "text/plain": [
       "category\n",
       "Action       6.30\n",
       "Adventure    9.00\n",
       "Comedy       7.20\n",
       "Crime        4.00\n",
       "Drama        8.00\n",
       "Romance      6.44\n",
       "Suspense     8.10\n",
       "Thriller     5.60\n",
       "War          3.20\n",
       "Name: imdb, dtype: float64"
      ]
     },
     "execution_count": 13,
     "metadata": {},
     "output_type": "execute_result"
    }
   ],
   "source": [
    "average_imdb_by_category = df_sorted.groupby('category')['imdb'].mean()\n",
    "    \n",
    "average_imdb_by_category"
   ]
  },
  {
   "cell_type": "code",
   "execution_count": 14,
   "id": "5550ed42",
   "metadata": {},
   "outputs": [
    {
     "name": "stdout",
     "output_type": "stream",
     "text": [
      "Average IMDb rating for Romance: 6.44\n"
     ]
    }
   ],
   "source": [
    "def average_score_by_category(movies, category):\n",
    "    # Filter movies by the given category\n",
    "    category_movies = movies[movies['category'] == category]\n",
    "    \n",
    "    # Calculate the average IMDb rating for the category\n",
    "    average_score = category_movies['imdb'].mean()\n",
    "    \n",
    "    return average_score\n",
    "\n",
    "# Example usage:\n",
    "category = 'Romance'\n",
    "average_rating = average_score_by_category(df_movies, category)\n",
    "print(f'Average IMDb rating for {category}: {average_rating:.2f}')\n"
   ]
  },
  {
   "cell_type": "markdown",
   "id": "9fbe3eb5",
   "metadata": {},
   "source": [
    "#### Write a function that accepts the movie list and a category and returns all the movies belonging to that category. Your function should be able to throw an error if that category does not exist"
   ]
  },
  {
   "cell_type": "code",
   "execution_count": 16,
   "id": "a6c15c34",
   "metadata": {},
   "outputs": [
    {
     "name": "stdout",
     "output_type": "stream",
     "text": [
      "The Choice\n",
      "Colonia\n",
      "Love\n",
      "Bride Wars\n",
      "We Two\n"
     ]
    }
   ],
   "source": [
    "def movies_by_category(movies, category):\n",
    "    category_movies = [movie for movie in movies if movie['category'] == category]\n",
    "\n",
    "    if not category_movies:\n",
    "        print('ERROR : This category does not exist !')\n",
    "        return None\n",
    "    return category_movies\n",
    "\n",
    "input_category = 'Romance'\n",
    "\n",
    "movies_in_category = movies_by_category(movies, input_category)\n",
    "\n",
    "if movies_in_category is not None:\n",
    "    for movie in movies_in_category:\n",
    "        print(movie['name'])\n"
   ]
  }
 ],
 "metadata": {
  "kernelspec": {
   "display_name": "Python 3 (ipykernel)",
   "language": "python",
   "name": "python3"
  },
  "language_info": {
   "codemirror_mode": {
    "name": "ipython",
    "version": 3
   },
   "file_extension": ".py",
   "mimetype": "text/x-python",
   "name": "python",
   "nbconvert_exporter": "python",
   "pygments_lexer": "ipython3",
   "version": "3.9.6"
  }
 },
 "nbformat": 4,
 "nbformat_minor": 5
}
